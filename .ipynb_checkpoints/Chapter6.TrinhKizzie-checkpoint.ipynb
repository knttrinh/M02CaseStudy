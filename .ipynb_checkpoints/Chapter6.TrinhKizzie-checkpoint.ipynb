{
 "cells": [
  {
   "cell_type": "markdown",
   "id": "42701e7a-3d43-4bd0-9aa0-739e9a152af9",
   "metadata": {},
   "source": [
    " ## Kizzie Trinh ##\n",
    " ## SDEV 220 ##\n",
    " ## Chapter 6 Exercises ##"
   ]
  },
  {
   "cell_type": "markdown",
   "id": "884417e8-69aa-4967-a68c-029d35ffc8af",
   "metadata": {},
   "source": [
    "# Section 6.1 #"
   ]
  },
  {
   "cell_type": "code",
   "execution_count": null,
   "id": "fa5f6aa0-c60e-4dcf-be01-9f3c01288eee",
   "metadata": {},
   "outputs": [],
   "source": []
  },
  {
   "cell_type": "markdown",
   "id": "145f63a6-76e3-4db1-bb6e-6c5528dae672",
   "metadata": {},
   "source": [
    "# Section 6.2 #"
   ]
  },
  {
   "cell_type": "code",
   "execution_count": null,
   "id": "6d220ddc-769c-439b-aa9d-9095f80f3a91",
   "metadata": {},
   "outputs": [],
   "source": []
  },
  {
   "cell_type": "markdown",
   "id": "b7e35f10-d035-4456-8648-5ee70ed74353",
   "metadata": {},
   "source": [
    "# Section 6.3 #"
   ]
  },
  {
   "cell_type": "code",
   "execution_count": null,
   "id": "240c0025-c612-44f6-9578-ccbd36a8422a",
   "metadata": {},
   "outputs": [],
   "source": []
  },
  {
   "cell_type": "markdown",
   "id": "c85521c9-9c38-487c-9443-58b4576b5e65",
   "metadata": {},
   "source": []
  }
 ],
 "metadata": {
  "kernelspec": {
   "display_name": "Python 3 (ipykernel)",
   "language": "python",
   "name": "python3"
  },
  "language_info": {
   "codemirror_mode": {
    "name": "ipython",
    "version": 3
   },
   "file_extension": ".py",
   "mimetype": "text/x-python",
   "name": "python",
   "nbconvert_exporter": "python",
   "pygments_lexer": "ipython3",
   "version": "3.11.7"
  }
 },
 "nbformat": 4,
 "nbformat_minor": 5
}
