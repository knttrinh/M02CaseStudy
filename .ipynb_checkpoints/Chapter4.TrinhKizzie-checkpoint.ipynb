{
 "cells": [
  {
   "cell_type": "markdown",
   "id": "13d3e52c-0d55-47be-9ceb-129106d04ccb",
   "metadata": {},
   "source": [
    " ## Kizzie Trinh ##\n",
    " ## SDEV 220 ##\n",
    " ## Chapter 4 Exercises ##"
   ]
  },
  {
   "cell_type": "markdown",
   "id": "a82d1508-58bb-447f-8b4a-8299854f4c4a",
   "metadata": {},
   "source": [
    "# Section 4.1 #"
   ]
  },
  {
   "cell_type": "code",
   "execution_count": null,
   "id": "cdd7160e-a4f1-41c2-b668-4c401779aebd",
   "metadata": {},
   "outputs": [],
   "source": []
  },
  {
   "cell_type": "markdown",
   "id": "54be3448-9957-4054-a4b0-84e0b320ab87",
   "metadata": {},
   "source": [
    "# Section 4.2 #"
   ]
  }
 ],
 "metadata": {
  "kernelspec": {
   "display_name": "Python 3 (ipykernel)",
   "language": "python",
   "name": "python3"
  },
  "language_info": {
   "codemirror_mode": {
    "name": "ipython",
    "version": 3
   },
   "file_extension": ".py",
   "mimetype": "text/x-python",
   "name": "python",
   "nbconvert_exporter": "python",
   "pygments_lexer": "ipython3",
   "version": "3.11.7"
  }
 },
 "nbformat": 4,
 "nbformat_minor": 5
}
